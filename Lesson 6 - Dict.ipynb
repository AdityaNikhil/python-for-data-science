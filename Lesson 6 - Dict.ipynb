{
 "cells": [
  {
   "cell_type": "markdown",
   "metadata": {},
   "source": [
    "[<img src=\"http://cloud.blobcity.net/assets/images/badge.png\" height=\"20\" style=\"margin-bottom:-15px\" />](https://cloud.blobcity.com/#/ps/shared-cloudbook/66c4fcaa-b0e4-4e0a-b275-49cdf007667a)\n",
    "\n",
    "# Dict\n",
    "\n",
    "A dict stands for dictionary and is also commonly known as a hash map. HashMap as you might know it from other languages, is a very important data structure in many languages. In Python and specially for Data Science with Python, a dict is a very important data structure. You are most likely to use this in almost every data science project you undertake. \n",
    "\n",
    "Just like any other Map or HashMap, a dict is a collection of key -> value pairs. "
   ]
  },
  {
   "cell_type": "code",
   "execution_count": 1,
   "metadata": {},
   "outputs": [],
   "source": [
    "dict1 = {'Tom': 42, 'Mike': 38}"
   ]
  },
  {
   "cell_type": "markdown",
   "metadata": {},
   "source": [
    "The above example creates a dictionary.\n",
    "\n",
    "In \n",
    "```\n",
    "'Tom': 42\n",
    "```\n",
    "\n",
    "`'Tom'` is the key and the number `42` is the value corresponding to the key. Here `42` and `38` can represent the age of the person for example. So we have created a key value pair, with the key being the name of the person and value being the age of the person.\n",
    "\n",
    "In general, dicts are mutable. So we can start from an empty dict and add the same values to it. "
   ]
  },
  {
   "cell_type": "code",
   "execution_count": 2,
   "metadata": {},
   "outputs": [
    {
     "name": "stdout",
     "output_type": "stream",
     "text": [
      "{'Tom': 42, 'Mike': 38}\n"
     ]
    }
   ],
   "source": [
    "dict1 = {}\n",
    "dict1['Tom'] = 42\n",
    "dict1['Mike'] = 38\n",
    "\n",
    "print(dict1)"
   ]
  },
  {
   "cell_type": "markdown",
   "metadata": {},
   "source": [
    "Just like we put key-value pairs inside a dict, we can fetch a value corresponding to a key. "
   ]
  },
  {
   "cell_type": "code",
   "execution_count": 3,
   "metadata": {},
   "outputs": [
    {
     "name": "stdout",
     "output_type": "stream",
     "text": [
      "42\n"
     ]
    }
   ],
   "source": [
    "tomAge = dict1['Tom']\n",
    "print(tomAge)"
   ]
  },
  {
   "cell_type": "markdown",
   "metadata": {},
   "source": [
    "Passing the key to the dict, fetchs the value corresponding to the element. But what happens if we pass a key that does not exist within the dict?\n",
    "\n",
    "``` Python\n",
    "harryAge = dict1['Harry']\n",
    "print(harryAge)\n",
    "```\n",
    "\n",
    "If we tried the above code, we could get a `KeyError`. This occurs when the specified key cannot be found in the dict. This means, as developers we have to be careful in invoking the dict with a key that is for sure present within the dict.\n",
    "\n",
    "Sometimes you might not be sure if the `dict` has the key you plan on looking for. This will typically happen when your `dict` is dynamically created in the program. In such cases we can use the `in` keyword to check if the dict has the specified key."
   ]
  },
  {
   "cell_type": "code",
   "execution_count": 4,
   "metadata": {},
   "outputs": [
    {
     "name": "stdout",
     "output_type": "stream",
     "text": [
      "False\n"
     ]
    }
   ],
   "source": [
    "containsHarry = 'Harry' in dict1\n",
    "print(containsHarry)"
   ]
  },
  {
   "cell_type": "markdown",
   "metadata": {},
   "source": [
    "We can also write this as"
   ]
  },
  {
   "cell_type": "code",
   "execution_count": 5,
   "metadata": {},
   "outputs": [
    {
     "name": "stdout",
     "output_type": "stream",
     "text": [
      "Tom age: 42\n"
     ]
    }
   ],
   "source": [
    "if 'Harry' in dict1:\n",
    "    print('Harry age:', dict1['Harry'])\n",
    "\n",
    "if 'Tom' in dict1:\n",
    "    print('Tom age:', dict1['Tom'])"
   ]
  },
  {
   "cell_type": "markdown",
   "metadata": {},
   "source": [
    "## Remove an element\n",
    "\n",
    "To remove a key-value pair that is added into the dict, we can use the key to remove the corresponding key-value pair. We use the `del` keyword in Python to achieve this."
   ]
  },
  {
   "cell_type": "code",
   "execution_count": 6,
   "metadata": {},
   "outputs": [
    {
     "name": "stdout",
     "output_type": "stream",
     "text": [
      "Before: {'Tom': 42, 'Mike': 38}\n",
      "After:  {'Mike': 38}\n"
     ]
    }
   ],
   "source": [
    "dict1 = {'Tom': 42, 'Mike': 38}\n",
    "print('Before:', dict1)\n",
    "\n",
    "del dict1['Tom']\n",
    "print('After: ', dict1)"
   ]
  },
  {
   "cell_type": "markdown",
   "metadata": {},
   "source": [
    "The operation modifies the original dict and `dict1` in this case no longer has the key `Tom`. "
   ]
  },
  {
   "cell_type": "markdown",
   "metadata": {},
   "source": [
    "## Pop a key-value pair\n",
    "\n",
    "We also fetch a key and simultaneously remove it from the dict. This can be achieved by using the `pop` function provided on the dict. "
   ]
  },
  {
   "cell_type": "code",
   "execution_count": 7,
   "metadata": {},
   "outputs": [
    {
     "name": "stdout",
     "output_type": "stream",
     "text": [
      "Before: {'Tom': 42, 'Mike': 38}\n",
      "After:  {'Mike': 38}\n",
      "Tom age: 42\n"
     ]
    }
   ],
   "source": [
    "dict1 = {'Tom': 42, 'Mike': 38}\n",
    "print('Before:', dict1)\n",
    "\n",
    "tomAge = dict1.pop('Tom')\n",
    "print('After: ', dict1)\n",
    "\n",
    "print('Tom age:', tomAge)"
   ]
  },
  {
   "cell_type": "markdown",
   "metadata": {},
   "source": [
    "We can see that the original dict was modified by the `pop` operation, but we were able to pop out the age of Tom before Tom was removed from the dict. This popped out value was returned by the `pop` function, which we assigned to the variable `tomAge`"
   ]
  }
 ],
 "metadata": {
  "kernelspec": {
   "display_name": "Python 3",
   "language": "python",
   "name": "python3"
  },
  "language_info": {
   "codemirror_mode": {
    "name": "ipython",
    "version": 3
   },
   "file_extension": ".py",
   "mimetype": "text/x-python",
   "name": "python",
   "nbconvert_exporter": "python",
   "pygments_lexer": "ipython3",
   "version": "3.8.4"
  }
 },
 "nbformat": 4,
 "nbformat_minor": 4
}
