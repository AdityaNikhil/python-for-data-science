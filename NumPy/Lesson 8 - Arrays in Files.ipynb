{
 "cells": [
  {
   "cell_type": "markdown",
   "metadata": {},
   "source": [
    "# File Input and Output with Arrays\n",
    "\n",
    "We will use a lot of arrays in our data science projects. Often we have too many arrays, and we need to save them to a file, so that we can work on them later without having to recompute them. \n",
    "\n",
    "NumPy provides some really convenient methods for saving arrays to files. Let's take a look at these."
   ]
  },
  {
   "cell_type": "code",
   "execution_count": 1,
   "metadata": {},
   "outputs": [
    {
     "data": {
      "text/plain": [
       "array([0, 1, 2, 3, 4, 5, 6, 7, 8, 9])"
      ]
     },
     "execution_count": 1,
     "metadata": {},
     "output_type": "execute_result"
    }
   ],
   "source": [
    "import numpy as np\n",
    "arr = np.arange(10)\n",
    "arr"
   ]
  },
  {
   "cell_type": "markdown",
   "metadata": {},
   "source": [
    "## Save"
   ]
  },
  {
   "cell_type": "code",
   "execution_count": 2,
   "metadata": {},
   "outputs": [],
   "source": [
    "np.save('my_array', arr)"
   ]
  },
  {
   "cell_type": "markdown",
   "metadata": {},
   "source": [
    "The above line of code saves the entire array to a file named `my_array`. The file is created in the same location where this Python program is running. The file location in other terms can be described as `./my_array`. \n",
    "\n",
    "If you check the folder, you will see that a new file has got created with name `my_array.npy`. The `.npy` is the extension name created by NumPy for files it creates. "
   ]
  },
  {
   "cell_type": "markdown",
   "metadata": {},
   "source": [
    "## Load"
   ]
  },
  {
   "cell_type": "code",
   "execution_count": 3,
   "metadata": {},
   "outputs": [
    {
     "data": {
      "text/plain": [
       "array([0, 1, 2, 3, 4, 5, 6, 7, 8, 9])"
      ]
     },
     "execution_count": 3,
     "metadata": {},
     "output_type": "execute_result"
    }
   ],
   "source": [
    "arr2 = np.load('my_array.npy')\n",
    "arr2"
   ]
  },
  {
   "cell_type": "markdown",
   "metadata": {},
   "source": [
    "There we go. We got the previous saved array back from the file. \n",
    "\n",
    "Keep in mind that you need not specify the file extension when using the `save` function. However, you must specify the complete file name, that is the name with the extension when using the `load` function. This is why we call `save` with `my_array`, but we have to call `load` with `my_array.npy`"
   ]
  },
  {
   "cell_type": "markdown",
   "metadata": {},
   "source": [
    "## Saving Multiple Arrays\n",
    "\n",
    "We can save multiple arrays in a single file. The arrays are just passed on as additional keyboard arguments. Let's take a look at how this done. "
   ]
  },
  {
   "cell_type": "code",
   "execution_count": 4,
   "metadata": {},
   "outputs": [],
   "source": [
    "arr1 = np.arange(10)\n",
    "arr2 = np.arange(5)\n",
    "\n",
    "np.savez('my_arrays', a=arr1, b=arr2)"
   ]
  },
  {
   "cell_type": "markdown",
   "metadata": {},
   "source": [
    "Note: We use a different function here. We are using `savez` instead of `save`. The `savez` function creates an uncompressed archive of the arrays. "
   ]
  },
  {
   "cell_type": "code",
   "execution_count": 5,
   "metadata": {},
   "outputs": [],
   "source": [
    "arrays = np.load('my_arrays.npz')"
   ]
  },
  {
   "cell_type": "markdown",
   "metadata": {},
   "source": [
    "Note, the extension of the saved file is changed to `npz` instead of the previous `npy`. The `load` method in this case loads both the arrays. \n",
    "\n",
    "So how do we access the individual arrays that we had saved? We can do this by using the keys we specified while saving them. "
   ]
  },
  {
   "cell_type": "code",
   "execution_count": 6,
   "metadata": {},
   "outputs": [
    {
     "name": "stdout",
     "output_type": "stream",
     "text": [
      "First: [0 1 2 3 4 5 6 7 8 9]\n",
      "Second: [0 1 2 3 4]\n"
     ]
    }
   ],
   "source": [
    "first = arrays['a']\n",
    "second = arrays['b']\n",
    "print('First:', first)\n",
    "print('Second:', second)"
   ]
  },
  {
   "cell_type": "markdown",
   "metadata": {},
   "source": [
    "## Compressed Data\n",
    "\n",
    "NumPy provides an extra function called `savez_compressed`. This works same as the `savez` function, but the data is first compressed and then saved to the file. \n",
    "\n",
    "If you want to save disk space, and your data is in the nature for it to get compressed well, then you can use the `savez_compressed` function to save on disk space. However, compressing and uncompressing can take time in case of large files. So time to save and load the arrays might take longer when using the `savez_compressed`, but can help with saving disk space. "
   ]
  },
  {
   "cell_type": "code",
   "execution_count": 7,
   "metadata": {},
   "outputs": [],
   "source": [
    "np.savez_compressed('my_arrays', a=arr1, b=arr2)"
   ]
  },
  {
   "cell_type": "code",
   "execution_count": 8,
   "metadata": {},
   "outputs": [],
   "source": [
    "arrays = np.load('my_arrays.npz')"
   ]
  },
  {
   "cell_type": "code",
   "execution_count": 9,
   "metadata": {},
   "outputs": [
    {
     "name": "stdout",
     "output_type": "stream",
     "text": [
      "First: [0 1 2 3 4 5 6 7 8 9]\n",
      "Second: [0 1 2 3 4]\n"
     ]
    }
   ],
   "source": [
    "first = arrays['a']\n",
    "second = arrays['b']\n",
    "print('First:', first)\n",
    "print('Second:', second)"
   ]
  }
 ],
 "metadata": {
  "kernelspec": {
   "display_name": "Python 3",
   "language": "python",
   "name": "python3"
  },
  "language_info": {
   "codemirror_mode": {
    "name": "ipython",
    "version": 3
   },
   "file_extension": ".py",
   "mimetype": "text/x-python",
   "name": "python",
   "nbconvert_exporter": "python",
   "pygments_lexer": "ipython3",
   "version": "3.8.6"
  }
 },
 "nbformat": 4,
 "nbformat_minor": 4
}
