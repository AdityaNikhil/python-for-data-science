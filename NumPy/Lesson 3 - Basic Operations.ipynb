{
 "cells": [
  {
   "cell_type": "markdown",
   "metadata": {},
   "source": [
    "# Creating ndarray"
   ]
  },
  {
   "cell_type": "markdown",
   "metadata": {},
   "source": [
    "NumPy offers several array creation functions. We have already tried the `.array` function to create an array from a List. There are several other built-in functions offered by NumPy for quick use. "
   ]
  },
  {
   "cell_type": "code",
   "execution_count": 1,
   "metadata": {},
   "outputs": [
    {
     "data": {
      "text/plain": [
       "array([1, 2, 3, 4, 6])"
      ]
     },
     "execution_count": 1,
     "metadata": {},
     "output_type": "execute_result"
    }
   ],
   "source": [
    "import numpy as np\n",
    "\n",
    "a = [1,2,3,4,6]   # This is a list\n",
    "arr = np.array(a) # Passing the list, converting to numpy array\n",
    "\n",
    "arr"
   ]
  },
  {
   "cell_type": "markdown",
   "metadata": {},
   "source": [
    "This is the default function we have used so far to create an array. \n",
    "\n",
    "Let's try something else. "
   ]
  },
  {
   "cell_type": "code",
   "execution_count": 2,
   "metadata": {},
   "outputs": [
    {
     "name": "stdout",
     "output_type": "stream",
     "text": [
      "[0 1 2 3 4]\n"
     ]
    }
   ],
   "source": [
    "a = np.arange(5)\n",
    "print(a)"
   ]
  },
  {
   "cell_type": "markdown",
   "metadata": {},
   "source": [
    "Nice uh? We have quickly created a 1D array, comprising of 5 integers, starting from the number 0 to the range value specified. \n",
    "\n",
    "Let's try again. "
   ]
  },
  {
   "cell_type": "code",
   "execution_count": 3,
   "metadata": {},
   "outputs": [
    {
     "name": "stdout",
     "output_type": "stream",
     "text": [
      "[0 1 2 3 4 5 6 7 8 9]\n"
     ]
    }
   ],
   "source": [
    "a = np.arange(10)\n",
    "print(a)"
   ]
  },
  {
   "cell_type": "markdown",
   "metadata": {},
   "source": [
    "Since we specified `10` as input to `arange`, we got an array with 10 elements in it.\n",
    "\n",
    "Let's try some more examples."
   ]
  },
  {
   "cell_type": "code",
   "execution_count": 4,
   "metadata": {},
   "outputs": [
    {
     "name": "stdout",
     "output_type": "stream",
     "text": [
      "[0. 0. 0. 0. 0.]\n"
     ]
    }
   ],
   "source": [
    "a = np.zeros(5)\n",
    "print(a)"
   ]
  },
  {
   "cell_type": "markdown",
   "metadata": {},
   "source": [
    "Here you go. We now have an array containing 5 elements, but each element has the value `0`. It is interesting to note that the value `0` is actually of type float. We can spot it because the value reads `0.` and not `0`. The `0.` is same as having the value as `0.0`\n",
    "\n",
    "So how do we produce an array with integer zeros? We do so by explicitely specifying the datatype. "
   ]
  },
  {
   "cell_type": "code",
   "execution_count": 5,
   "metadata": {
    "scrolled": true
   },
   "outputs": [
    {
     "name": "stdout",
     "output_type": "stream",
     "text": [
      "[0 0 0 0 0]\n"
     ]
    }
   ],
   "source": [
    "a = np.zeros(5, dtype=np.int32)\n",
    "print(a)"
   ]
  },
  {
   "cell_type": "markdown",
   "metadata": {},
   "source": [
    "Many array creation functions in NumPy support an extra parameter of data type. Here `dtype=np.int32` explicitely specifies that we need the elements to be of type `int32`. We can see that the result now contains `0` and not `0.`"
   ]
  },
  {
   "cell_type": "markdown",
   "metadata": {},
   "source": [
    "# Array Creation Functions\n",
    "\n",
    "The below table shows an exhuastive list of array creation functions found in NumPy. You can give them a try and see how each of them works. We strongly encourage that you do try them and play around with them. \n",
    "\n",
    "![](./images/array_creation.JPG)"
   ]
  },
  {
   "cell_type": "markdown",
   "metadata": {},
   "source": [
    "# Data Types\n",
    "\n",
    "The below table shows an exhaustive list of data types. Keep in mind that you can also create 1D, 2D and 3D arrays with string data. You are not just restricted to Numercial data. In fact, elements of the array can be of any type, including objects. \n",
    "\n",
    "Do play around to create arrays using various of these data types. \n",
    "\n",
    "![](./images/data_types.JPG)"
   ]
  },
  {
   "cell_type": "markdown",
   "metadata": {},
   "source": [
    "# Datatype Conversions\n",
    "\n",
    "We can convert the datatype of elements in an array. NumPy provides a conveninet `astype` function to fetch a matrix in the desired datatype. For the operation to succeed, it must be possible to convert all elements to the specified datatype. "
   ]
  },
  {
   "cell_type": "code",
   "execution_count": 6,
   "metadata": {},
   "outputs": [
    {
     "name": "stdout",
     "output_type": "stream",
     "text": [
      "['1' '2' '3']\n",
      "[1 2 3]\n"
     ]
    }
   ],
   "source": [
    "a = np.array(['1', '2', '3'])\n",
    "print(a)\n",
    "b = a.astype(np.int32)\n",
    "print(b)"
   ]
  },
  {
   "cell_type": "markdown",
   "metadata": {},
   "source": [
    "In the above example, we started with an array of type String. The array `a` has all elements as string, and this can be viewed in the corresponding print. \n",
    "\n",
    "We used the `astype` function then to create a new array of type int. All elements within the array were convereted to int and returned. This is represented by the array `b`\n",
    "\n",
    "Keep in mind that calling the `astype` function creates a new array. The original array remains unchanged."
   ]
  },
  {
   "cell_type": "markdown",
   "metadata": {},
   "source": [
    "# Arithmetic Operations\n",
    "\n",
    "Let's perform some basic arithmetic operations like **addition, subtraction, multiplication and division** on below 2 arrays using numpy. "
   ]
  },
  {
   "cell_type": "code",
   "execution_count": 7,
   "metadata": {},
   "outputs": [],
   "source": [
    "import numpy as np\n",
    "\n",
    "a = np.array([[1,1],[1,1]])\n",
    "b = np.array([[2,2],[2,2]])"
   ]
  },
  {
   "cell_type": "markdown",
   "metadata": {},
   "source": [
    "## Addition"
   ]
  },
  {
   "cell_type": "code",
   "execution_count": 8,
   "metadata": {},
   "outputs": [
    {
     "data": {
      "text/plain": [
       "array([[3, 3],\n",
       "       [3, 3]])"
      ]
     },
     "execution_count": 8,
     "metadata": {},
     "output_type": "execute_result"
    }
   ],
   "source": [
    "a+b"
   ]
  },
  {
   "cell_type": "markdown",
   "metadata": {},
   "source": [
    "## Subtraction"
   ]
  },
  {
   "cell_type": "code",
   "execution_count": 9,
   "metadata": {},
   "outputs": [
    {
     "data": {
      "text/plain": [
       "array([[-1, -1],\n",
       "       [-1, -1]])"
      ]
     },
     "execution_count": 9,
     "metadata": {},
     "output_type": "execute_result"
    }
   ],
   "source": [
    "a-b"
   ]
  },
  {
   "cell_type": "markdown",
   "metadata": {},
   "source": [
    "## Multiplication"
   ]
  },
  {
   "cell_type": "code",
   "execution_count": 10,
   "metadata": {},
   "outputs": [
    {
     "data": {
      "text/plain": [
       "array([[2, 2],\n",
       "       [2, 2]])"
      ]
     },
     "execution_count": 10,
     "metadata": {},
     "output_type": "execute_result"
    }
   ],
   "source": [
    "a*b"
   ]
  },
  {
   "cell_type": "markdown",
   "metadata": {},
   "source": [
    "## Division"
   ]
  },
  {
   "cell_type": "code",
   "execution_count": 11,
   "metadata": {},
   "outputs": [
    {
     "data": {
      "text/plain": [
       "array([[0.5, 0.5],\n",
       "       [0.5, 0.5]])"
      ]
     },
     "execution_count": 11,
     "metadata": {},
     "output_type": "execute_result"
    }
   ],
   "source": [
    "a/b"
   ]
  },
  {
   "cell_type": "markdown",
   "metadata": {},
   "source": [
    "## Raising powers\n",
    "\n",
    "Also we can raise powers of array values."
   ]
  },
  {
   "cell_type": "code",
   "execution_count": 12,
   "metadata": {},
   "outputs": [
    {
     "data": {
      "text/plain": [
       "array([[1, 1],\n",
       "       [1, 1]])"
      ]
     },
     "execution_count": 12,
     "metadata": {},
     "output_type": "execute_result"
    }
   ],
   "source": [
    "# Array 'a' values raised to the power of 2.\n",
    "np.power(a,2)"
   ]
  },
  {
   "cell_type": "markdown",
   "metadata": {},
   "source": [
    "Let's try the same thing with the `b` matrix and see if the power raise works. "
   ]
  },
  {
   "cell_type": "code",
   "execution_count": 13,
   "metadata": {},
   "outputs": [
    {
     "data": {
      "text/plain": [
       "array([[4, 4],\n",
       "       [4, 4]])"
      ]
     },
     "execution_count": 13,
     "metadata": {},
     "output_type": "execute_result"
    }
   ],
   "source": [
    "# Array 'b' values raised to the power of 2.\n",
    "np.power(b,2)"
   ]
  },
  {
   "cell_type": "markdown",
   "metadata": {},
   "source": [
    "# Reshaping a matrix\n",
    "\n",
    "We can also reshape our matrix using **reshape** function.\n",
    "\n",
    "## Reshaping a 1D matrix\n",
    "Let's reshape a matrix with 1 dimension from shape (1,3) to (3,1). <br>\n",
    "**Example 1**"
   ]
  },
  {
   "cell_type": "code",
   "execution_count": 14,
   "metadata": {},
   "outputs": [
    {
     "data": {
      "text/plain": [
       "array([1, 2, 3])"
      ]
     },
     "execution_count": 14,
     "metadata": {},
     "output_type": "execute_result"
    }
   ],
   "source": [
    "a = np.array([1,2,3])\n",
    "a"
   ]
  },
  {
   "cell_type": "code",
   "execution_count": 15,
   "metadata": {},
   "outputs": [
    {
     "data": {
      "text/plain": [
       "array([[1],\n",
       "       [2],\n",
       "       [3]])"
      ]
     },
     "execution_count": 15,
     "metadata": {},
     "output_type": "execute_result"
    }
   ],
   "source": [
    "a = np.reshape(a, (3,1))\n",
    "a"
   ]
  },
  {
   "cell_type": "markdown",
   "metadata": {},
   "source": [
    "**Example 2**<br>\n",
    "Reshaping a matrix from shape (1,8) to (8,1)."
   ]
  },
  {
   "cell_type": "code",
   "execution_count": 16,
   "metadata": {},
   "outputs": [
    {
     "data": {
      "text/plain": [
       "array([ 4,  5,  6, 12, 76, 26, 67, 73])"
      ]
     },
     "execution_count": 16,
     "metadata": {},
     "output_type": "execute_result"
    }
   ],
   "source": [
    "a = np.array([4,5,6,12,76,26,67,73])\n",
    "a\n",
    "# Shape : (1,8)"
   ]
  },
  {
   "cell_type": "code",
   "execution_count": 17,
   "metadata": {},
   "outputs": [
    {
     "data": {
      "text/plain": [
       "array([[ 4],\n",
       "       [ 5],\n",
       "       [ 6],\n",
       "       [12],\n",
       "       [76],\n",
       "       [26],\n",
       "       [67],\n",
       "       [73]])"
      ]
     },
     "execution_count": 17,
     "metadata": {},
     "output_type": "execute_result"
    }
   ],
   "source": [
    "np.reshape(a, (8,1))"
   ]
  },
  {
   "cell_type": "markdown",
   "metadata": {},
   "source": [
    "## Reshaping a 2D matrix\n",
    "Let's reshape a matrix with 2 dimensions from shape (2,3) to (3,2).\n",
    "\n",
    "**Example 1**"
   ]
  },
  {
   "cell_type": "code",
   "execution_count": 18,
   "metadata": {},
   "outputs": [
    {
     "data": {
      "text/plain": [
       "array([[1, 2, 3],\n",
       "       [4, 5, 6]])"
      ]
     },
     "execution_count": 18,
     "metadata": {},
     "output_type": "execute_result"
    }
   ],
   "source": [
    "b = np.array([[1,2,3],\n",
    "              [4,5,6]])\n",
    "b"
   ]
  },
  {
   "cell_type": "code",
   "execution_count": 19,
   "metadata": {},
   "outputs": [
    {
     "data": {
      "text/plain": [
       "array([[1, 2],\n",
       "       [3, 4],\n",
       "       [5, 6]])"
      ]
     },
     "execution_count": 19,
     "metadata": {},
     "output_type": "execute_result"
    }
   ],
   "source": [
    "b = np.reshape(b, (3,2))\n",
    "b"
   ]
  },
  {
   "cell_type": "markdown",
   "metadata": {},
   "source": [
    "It is important to closely observe how the matrix was actually reshaped. See how 3 and 4 got arranged on the same row after the reshape operation."
   ]
  },
  {
   "cell_type": "markdown",
   "metadata": {},
   "source": [
    "**Example 2**<br>\n",
    "Reshaping a matrix from shape (3,5) to (5,3)."
   ]
  },
  {
   "cell_type": "code",
   "execution_count": 20,
   "metadata": {},
   "outputs": [
    {
     "data": {
      "text/plain": [
       "array([[ 56,  76,  31,  44,  55],\n",
       "       [ 33,  78, 123,  33,  28],\n",
       "       [ 12,  23,  43,   1,   2]])"
      ]
     },
     "execution_count": 20,
     "metadata": {},
     "output_type": "execute_result"
    }
   ],
   "source": [
    "b = np.array([[56,76,31,44,55],\n",
    "              [33,78,123,33,28],\n",
    "              [12,23,43,1,2]])\n",
    "b\n",
    "# Shape : (3,5)"
   ]
  },
  {
   "cell_type": "code",
   "execution_count": 21,
   "metadata": {},
   "outputs": [
    {
     "data": {
      "text/plain": [
       "array([[ 56,  76,  31],\n",
       "       [ 44,  55,  33],\n",
       "       [ 78, 123,  33],\n",
       "       [ 28,  12,  23],\n",
       "       [ 43,   1,   2]])"
      ]
     },
     "execution_count": 21,
     "metadata": {},
     "output_type": "execute_result"
    }
   ],
   "source": [
    "np.reshape(b, (5,3))"
   ]
  },
  {
   "cell_type": "markdown",
   "metadata": {},
   "source": [
    "## Reshaping a 3D matrix\n",
    "\n",
    "Let's reshape a 3D matrix from shape (2,2,3) to (3,2,2).\n",
    "\n",
    "**Example 1**"
   ]
  },
  {
   "cell_type": "code",
   "execution_count": 22,
   "metadata": {},
   "outputs": [
    {
     "data": {
      "text/plain": [
       "array([[[ 1,  2,  3],\n",
       "        [ 4,  5,  6]],\n",
       "\n",
       "       [[ 7,  8,  9],\n",
       "        [10, 11, 12]]])"
      ]
     },
     "execution_count": 22,
     "metadata": {},
     "output_type": "execute_result"
    }
   ],
   "source": [
    "c = np.array([[[1,2,3],\n",
    "                [4,5,6]],\n",
    "                \n",
    "                [[7,8,9],\n",
    "                [10,11,12]]])\n",
    "\n",
    "c"
   ]
  },
  {
   "cell_type": "code",
   "execution_count": 23,
   "metadata": {},
   "outputs": [
    {
     "data": {
      "text/plain": [
       "array([[[ 1,  2],\n",
       "        [ 3,  4]],\n",
       "\n",
       "       [[ 5,  6],\n",
       "        [ 7,  8]],\n",
       "\n",
       "       [[ 9, 10],\n",
       "        [11, 12]]])"
      ]
     },
     "execution_count": 23,
     "metadata": {},
     "output_type": "execute_result"
    }
   ],
   "source": [
    "np.reshape(c, (3,2,2))"
   ]
  },
  {
   "cell_type": "markdown",
   "metadata": {},
   "source": [
    "**Example 2**<br>\n",
    "Reshaping a matrix from shape (1,2,3) to (1,3,2). This should effectively just reshape the inside 2D matrix. Let's give it a try. "
   ]
  },
  {
   "cell_type": "code",
   "execution_count": 24,
   "metadata": {},
   "outputs": [
    {
     "data": {
      "text/plain": [
       "array([[[1, 2, 3],\n",
       "        [4, 5, 6]]])"
      ]
     },
     "execution_count": 24,
     "metadata": {},
     "output_type": "execute_result"
    }
   ],
   "source": [
    "c = np.array([[[1,2,3],\n",
    "               [4,5,6]]])\n",
    "c"
   ]
  },
  {
   "cell_type": "code",
   "execution_count": 25,
   "metadata": {},
   "outputs": [
    {
     "data": {
      "text/plain": [
       "array([[[1, 2],\n",
       "        [3, 4],\n",
       "        [5, 6]]])"
      ]
     },
     "execution_count": 25,
     "metadata": {},
     "output_type": "execute_result"
    }
   ],
   "source": [
    "np.reshape(c, (1,3,2))"
   ]
  },
  {
   "cell_type": "markdown",
   "metadata": {},
   "source": [
    "**NOTE** : You can reshape the 2D matrices present inside a 3D matrix. Consider the above example, we reshaped a 3D matrix from shape (1,2,3) to (1,3,2). That is, we simply reshaped the inside 2D matrix (2,3) to (3,2). "
   ]
  },
  {
   "cell_type": "markdown",
   "metadata": {},
   "source": [
    "---\n",
    "# Joining\n",
    "\n",
    "Out of different join functions available in numpy, we mostly use `concatenate` to join 2 or more arrays. Make sure that either of one axes is the same.\n",
    "\n",
    "**Use Case** This is one of the most useful functions which can be used to combine two or more datasets to work on a single dataset.\n",
    "\n",
    "**Note** : In numpy,\n",
    "\n",
    "`axis=1 refers to rows`\n",
    "`axis=0 refers to columns`"
   ]
  },
  {
   "cell_type": "markdown",
   "metadata": {},
   "source": [
    "## Joining two 1D arrays\n"
   ]
  },
  {
   "cell_type": "code",
   "execution_count": 26,
   "metadata": {},
   "outputs": [
    {
     "data": {
      "text/plain": [
       "array([ 1,  2,  3,  4,  5,  6, 12, 76, 26, 67, 73])"
      ]
     },
     "execution_count": 26,
     "metadata": {},
     "output_type": "execute_result"
    }
   ],
   "source": [
    "a = np.array([1,2,3])\n",
    "b = np.array([4,5,6,12,76,26,67,73])\n",
    "\n",
    "np.concatenate([a,b])"
   ]
  },
  {
   "cell_type": "markdown",
   "metadata": {},
   "source": [
    "The contatenate function produces a new matrix. The orignal matrices `a` and `b` remain unchanged after the concatenate operation."
   ]
  },
  {
   "cell_type": "markdown",
   "metadata": {},
   "source": [
    "## Joining two 2D arrays\n"
   ]
  },
  {
   "cell_type": "code",
   "execution_count": 27,
   "metadata": {},
   "outputs": [
    {
     "data": {
      "text/plain": [
       "array([[  1,   2,   3],\n",
       "       [  4,   5,   6],\n",
       "       [ 56,  76,  31],\n",
       "       [ 44,  55,  33],\n",
       "       [ 78, 123,  33],\n",
       "       [ 28,  12,  23],\n",
       "       [ 43,   1,   2]])"
      ]
     },
     "execution_count": 27,
     "metadata": {},
     "output_type": "execute_result"
    }
   ],
   "source": [
    "a = np.array([[1,2,3],\n",
    "              [4,5,6]])\n",
    "b = np.array([[ 56,  76,  31],\n",
    "       [ 44,  55,  33],\n",
    "       [ 78, 123,  33],\n",
    "       [ 28,  12,  23],\n",
    "       [ 43,   1,   2]])\n",
    "\n",
    "np.concatenate([a,b], axis=0)"
   ]
  },
  {
   "cell_type": "markdown",
   "metadata": {},
   "source": [
    "When we specify `axis=0` we actually mean that we want to append the columns. We can see that rows got added into the matrix, and the columns received the additional values. \n",
    "\n",
    "Let us try performing a concatenation for `axis=1`"
   ]
  },
  {
   "cell_type": "code",
   "execution_count": 28,
   "metadata": {},
   "outputs": [
    {
     "data": {
      "text/plain": [
       "array([[ 1,  2,  3, 56, 76, 31],\n",
       "       [ 4,  5,  6, 44, 55, 33]])"
      ]
     },
     "execution_count": 28,
     "metadata": {},
     "output_type": "execute_result"
    }
   ],
   "source": [
    "a = np.array([[1,2,3],\n",
    "              [4,5,6]])\n",
    "b = np.array([[ 56,  76,  31],\n",
    "       [ 44,  55,  33]])\n",
    "\n",
    "np.concatenate([a,b], axis=1)"
   ]
  },
  {
   "cell_type": "markdown",
   "metadata": {},
   "source": [
    "## Joining two 3D arrays"
   ]
  },
  {
   "cell_type": "code",
   "execution_count": 29,
   "metadata": {},
   "outputs": [
    {
     "data": {
      "text/plain": [
       "array([[[  1,   2,   3],\n",
       "        [  4,   5,   6],\n",
       "        [ 99, 199, 299]],\n",
       "\n",
       "       [[  7,   8,   9],\n",
       "        [ 10,  11,  12],\n",
       "        [ 88, 188, 288]]])"
      ]
     },
     "execution_count": 29,
     "metadata": {},
     "output_type": "execute_result"
    }
   ],
   "source": [
    "a = np.array([[[1,2,3],\n",
    "                [4,5,6]],\n",
    "                \n",
    "                [[7,8,9],\n",
    "                [10,11,12]]]) # Shape : (2,2,3)\n",
    "\n",
    "b = np.array([[[99,199,299]],[[88,188,288]]]) # Shape : (2,1,3)\n",
    "\n",
    "np.concatenate([a,b],axis=1)"
   ]
  },
  {
   "cell_type": "markdown",
   "metadata": {},
   "source": [
    "# Splitting\n",
    "We use `array_split` to split an array into `n` number of parts.\n",
    "\n",
    "**Use Case** Splitting can be used to divide the dataset, hence working or experimenting on various parts of data to understand it's behaviour."
   ]
  },
  {
   "cell_type": "code",
   "execution_count": 30,
   "metadata": {},
   "outputs": [
    {
     "name": "stdout",
     "output_type": "stream",
     "text": [
      "[array([1, 2]), array([3, 4]), array([5, 6])]\n"
     ]
    }
   ],
   "source": [
    "a = np.array([1, 2, 3, 4, 5, 6])\n",
    "newarr = np.array_split(a, 3)\n",
    "\n",
    "print(newarr)"
   ]
  },
  {
   "cell_type": "markdown",
   "metadata": {},
   "source": [
    "As you can see above, a new array is created, splitting `a` into `3` different arrays. \n"
   ]
  },
  {
   "cell_type": "markdown",
   "metadata": {},
   "source": [
    "# Random\n",
    "\n",
    "The numpy.random module is responsible for generating arrays with random numbers. Each time you run the below cells, different numbers are generated."
   ]
  },
  {
   "cell_type": "markdown",
   "metadata": {},
   "source": [
    "## np.random.randn\n",
    "\n",
    "The **randn** generates an array of random float numbers whose shape is to be given and it draws the numbers from a **standard normal distribution.**"
   ]
  },
  {
   "cell_type": "code",
   "execution_count": 31,
   "metadata": {
    "scrolled": true
   },
   "outputs": [
    {
     "data": {
      "text/plain": [
       "array([[ 0.34291505,  0.15846929],\n",
       "       [-0.28041854,  1.37424051],\n",
       "       [-1.00608324, -1.23477004]])"
      ]
     },
     "execution_count": 31,
     "metadata": {},
     "output_type": "execute_result"
    }
   ],
   "source": [
    "import numpy as np\n",
    "\n",
    "# Below (3,2) represents the shape of the array.\n",
    "np.random.randn(3,2)"
   ]
  },
  {
   "cell_type": "markdown",
   "metadata": {},
   "source": [
    "## np.random.randint\n",
    "The **randint** generates an array of random integers.\n"
   ]
  },
  {
   "cell_type": "code",
   "execution_count": 32,
   "metadata": {},
   "outputs": [
    {
     "data": {
      "text/plain": [
       "array([[4, 7],\n",
       "       [3, 6],\n",
       "       [2, 9]])"
      ]
     },
     "execution_count": 32,
     "metadata": {},
     "output_type": "execute_result"
    }
   ],
   "source": [
    "# Below, an array of size (3,2) is generated with random values between 1 to 10.\n",
    "np.random.randint(1,10, size=(3,2))"
   ]
  },
  {
   "cell_type": "markdown",
   "metadata": {},
   "source": [
    "## np.random.rand\n",
    "The **rand** generates an array of random float numbers whose shape is to be given and are drawn from a **uniform distribution.**"
   ]
  },
  {
   "cell_type": "code",
   "execution_count": 33,
   "metadata": {},
   "outputs": [
    {
     "data": {
      "text/plain": [
       "array([[0.61846814, 0.38662633, 0.25613095, 0.5793173 ],\n",
       "       [0.31091698, 0.79434679, 0.02547833, 0.11601057]])"
      ]
     },
     "execution_count": 33,
     "metadata": {},
     "output_type": "execute_result"
    }
   ],
   "source": [
    "# Below (2,4) represents the shape of the array.\n",
    "np.random.rand(2,4)"
   ]
  },
  {
   "cell_type": "markdown",
   "metadata": {},
   "source": [
    "## np.random.seed\n",
    "\n",
    "The **seed** is associated with a number and each **np.random** computation done below it shall be fixed and no matter how many times the cell is run, the array numbers are fixed and will not change. <br> Simply, each random arrays generated are associated with the seed value.\n",
    "<br><br> In the below code block, \n",
    "1. First we set the seed value to 5. \n",
    "2. Next, we will generate an array of random integers between 1 to 10.\n",
    "3. Now run the code block at least 2 times and you'll notice that the values are unchanged.\n",
    "4. Now set a different seed value and run the code block at least 2 times to generate new random values."
   ]
  },
  {
   "cell_type": "code",
   "execution_count": 34,
   "metadata": {},
   "outputs": [
    {
     "data": {
      "text/plain": [
       "array([[4, 7],\n",
       "       [7, 1],\n",
       "       [9, 5]])"
      ]
     },
     "execution_count": 34,
     "metadata": {},
     "output_type": "execute_result"
    }
   ],
   "source": [
    "np.random.seed(seed=5)\n",
    "\n",
    "np.random.randint(1,10, size=(3,2))"
   ]
  },
  {
   "cell_type": "markdown",
   "metadata": {},
   "source": [
    "You can try running the above code a multiple times, and you will always get the same matrix. This is because, we have explicity specified a seed value. This is why we call a random number generator in computer programming as a psudo random number generator. It does not generate numbers that are truly random. "
   ]
  },
  {
   "cell_type": "markdown",
   "metadata": {},
   "source": [
    "---\n",
    "# Broadcasting\n",
    "\n",
    "This is one of the most essential topics in numpy. The term broadcasting describes how NumPy treats arrays with different shapes during arithmetic operations.\n",
    "\n",
    "NumPy operations are usually done element-by-element which requires two arrays to have exactly the same shape. However, convenience methods in NumPy allow us to use shortcuts. Let's say want to multiple the elements of an array with the number 2. How would we do it? "
   ]
  },
  {
   "cell_type": "code",
   "execution_count": 35,
   "metadata": {},
   "outputs": [
    {
     "name": "stdout",
     "output_type": "stream",
     "text": [
      "[2 4 6]\n"
     ]
    }
   ],
   "source": [
    "a = np.array([1, 2, 3])\n",
    "b = 2\n",
    "\n",
    "print(a * b)"
   ]
  },
  {
   "cell_type": "markdown",
   "metadata": {},
   "source": [
    "From above result, we can infer that the scalar `b` is stretched during the arithmetic operation into an array with same shape as `a` so the shapes are compatible for element-by-element multiplication.\n",
    "![Array Broadcasting image](https://numpy.org/doc/stable/_images/theory.broadcast_1.gif \"Array Broadcasting image\") [source](https://numpy.org/doc/stable/user/theory.broadcasting.html#array-broadcasting-in-numpy)\n"
   ]
  },
  {
   "cell_type": "markdown",
   "metadata": {},
   "source": [
    "The multiplication of the matrix by the number 2, is actually not a valid arithmatic operation. This is why we say that NumPy actually created an array from the `2` by stretching, and then performing the appropriate multiplication operation.\n",
    "\n",
    "## The Broadcasting Rule\n",
    "\n",
    "> In order to broadcast, the size of the axes of both arrays in an operation must either be the same size or one of them must be one.\n",
    "\n",
    "\n",
    "Consider an example below,\n",
    "\n",
    "Suppose there's a matrix `a` and you would like to scale `1st row by 3 times, 2nd row by 4 times and 3rd row by 5 times`.\n",
    "\n",
    "    a   =  [[1,2,3],       \n",
    "            [4,5,6],\n",
    "            [7,8,9]]\n",
    "    \n",
    "    Shape of a = (3,3)\n",
    "    \n",
    "Now in order to scale the matrix `a` by given values, we'll make another matrix `b`,\n",
    "    \n",
    "    b   =   [3,\n",
    "             4,\n",
    "             5]\n",
    "    \n",
    "    Shape of b = (3,1)\n",
    "    \n",
    "As the broadcasting rule says,\n",
    "1. Size of both arrays are same, (i.e) size of a = 3, size of b = 3.\n",
    "2. One of the array's axes is equal to `1`. (i.e) `y` axis of array `b` = 1\n",
    "\n",
    "\n",
    "Now since the **Broadcasting Rule** is met, the broadcasting can happen.\n",
    "\n",
    "    Output = [[3,8,15],\n",
    "              [12,20,30],\n",
    "              [21,32,45]]"
   ]
  },
  {
   "cell_type": "code",
   "execution_count": 36,
   "metadata": {},
   "outputs": [
    {
     "name": "stdout",
     "output_type": "stream",
     "text": [
      "[[ 3  8 15]\n",
      " [12 20 30]\n",
      " [21 32 45]]\n"
     ]
    }
   ],
   "source": [
    "a = np.array([[1,2,3],\n",
    "              [4,5,6],\n",
    "              [7,8,9]])\n",
    "\n",
    "b = np.array([3,4,5])\n",
    "\n",
    "print(a*b)"
   ]
  },
  {
   "cell_type": "markdown",
   "metadata": {},
   "source": [
    "---\n",
    "**Case when broadcast fails** <br>\n",
    "When the trailing dimensions of the arrays are unequal, broadcasting fails because it is impossible to align the values in the rows of the 1st array with the elements of the 2nd arrays for element-by-element addition.\n",
    "![Broadcast Fail](https://numpy.org/doc/stable/_images/theory.broadcast_3.gif \"Broadcast Fail\")\n",
    "\n",
    "[source](https://numpy.org/doc/stable/user/theory.broadcasting.html#array-broadcasting-in-numpy)"
   ]
  }
 ],
 "metadata": {
  "kernelspec": {
   "display_name": "Python 3",
   "language": "python",
   "name": "python3"
  },
  "language_info": {
   "codemirror_mode": {
    "name": "ipython",
    "version": 3
   },
   "file_extension": ".py",
   "mimetype": "text/x-python",
   "name": "python",
   "nbconvert_exporter": "python",
   "pygments_lexer": "ipython3",
   "version": "3.8.6"
  }
 },
 "nbformat": 4,
 "nbformat_minor": 4
}
